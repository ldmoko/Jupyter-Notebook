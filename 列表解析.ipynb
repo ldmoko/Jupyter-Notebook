{
 "cells": [
  {
   "cell_type": "code",
   "execution_count": 2,
   "metadata": {
    "collapsed": false,
    "scrolled": true
   },
   "outputs": [
    {
     "data": {
      "text/plain": [
       "[1, 4, 9, 16, 25]"
      ]
     },
     "execution_count": 2,
     "metadata": {},
     "output_type": "execute_result"
    }
   ],
   "source": [
    "l2 = []\n",
    "l1 = [1, 2, 3, 4, 5]\n",
    "for i in l1:\n",
    "    l2.append(i**2)#这种方法并不高效  \n",
    "l2"
   ]
  },
  {
   "cell_type": "code",
   "execution_count": 3,
   "metadata": {
    "collapsed": false,
    "scrolled": true
   },
   "outputs": [
    {
     "data": {
      "text/plain": [
       "[1, 4, 9, 16, 25]"
      ]
     },
     "execution_count": 3,
     "metadata": {},
     "output_type": "execute_result"
    }
   ],
   "source": [
    "l1 = [1, 2, 3, 4, 5]\n",
    "l3 = [i**2 for i in l1]#比上面方法更高效\n",
    "l3"
   ]
  },
  {
   "cell_type": "code",
   "execution_count": 4,
   "metadata": {
    "collapsed": false
   },
   "outputs": [
    {
     "data": {
      "text/plain": [
       "[9, 16, 25]"
      ]
     },
     "execution_count": 4,
     "metadata": {},
     "output_type": "execute_result"
    }
   ],
   "source": [
    "l1 = [1, 2, 3, 4, 5]\n",
    "l4 = [i**2 for i in l1 if i >=3]\n",
    "l4"
   ]
  },
  {
   "cell_type": "code",
   "execution_count": 13,
   "metadata": {
    "collapsed": false,
    "scrolled": true
   },
   "outputs": [
    {
     "name": "stdout",
     "output_type": "stream",
     "text": [
      "[1, 4, 9, 16, 25, 36, 49, 64, 81, 100]\n"
     ]
    }
   ],
   "source": [
    "l5 = [i**2 for i in range(1, 11)]\n",
    "print (l5)"
   ]
  },
  {
   "cell_type": "code",
   "execution_count": 15,
   "metadata": {
    "collapsed": false,
    "scrolled": true
   },
   "outputs": [
    {
     "name": "stdout",
     "output_type": "stream",
     "text": [
      "[4, 16, 36, 64, 100]\n"
     ]
    }
   ],
   "source": [
    "l6 = [i**2 for i in range(1, 11) if i % 2 ==0]#偶数\n",
    "print (l6)"
   ]
  },
  {
   "cell_type": "code",
   "execution_count": 2,
   "metadata": {
    "collapsed": false,
    "scrolled": true
   },
   "outputs": [
    {
     "data": {
      "text/plain": [
       "['wtmp',\n",
       " 'gpu-manager.log',\n",
       " 'alternatives.log',\n",
       " 'fsck',\n",
       " 'btmp',\n",
       " 'lastore',\n",
       " 'faillog',\n",
       " 'dpkg.log',\n",
       " 'alternatives.log.1',\n",
       " 'aptitude.1.gz',\n",
       " 'btmp.1',\n",
       " 'Xorg.0.log.old',\n",
       " 'lightdm',\n",
       " 'cups',\n",
       " 'boot.log',\n",
       " 'samba',\n",
       " 'bootstrap.log',\n",
       " 'apt',\n",
       " 'dpkg.log.1',\n",
       " 'Xorg.0.log',\n",
       " 'hp',\n",
       " 'aptitude',\n",
       " 'journal',\n",
       " 'wtmp.1',\n",
       " 'mysql',\n",
       " 'teamviewer11',\n",
       " 'dmesg',\n",
       " 'fontconfig.log',\n",
       " 'lastlog']"
      ]
     },
     "execution_count": 2,
     "metadata": {},
     "output_type": "execute_result"
    }
   ],
   "source": [
    "import os\n",
    "os.listdir('/var/log')"
   ]
  },
  {
   "cell_type": "code",
   "execution_count": 3,
   "metadata": {
    "collapsed": false,
    "scrolled": true
   },
   "outputs": [
    {
     "name": "stdout",
     "output_type": "stream",
     "text": [
      "True\n",
      "False\n"
     ]
    }
   ],
   "source": [
    "import os\n",
    "s1 = 'hello.log'\n",
    "s2 = 'hello'\n",
    "print(s1.endswith('.log'))#.log结尾\n",
    "print(s2.endswith('.log'))"
   ]
  },
  {
   "cell_type": "code",
   "execution_count": 6,
   "metadata": {
    "collapsed": false,
    "scrolled": true
   },
   "outputs": [
    {
     "data": {
      "text/plain": [
       "['gpu-manager.log',\n",
       " 'alternatives.log',\n",
       " 'dpkg.log',\n",
       " 'boot.log',\n",
       " 'bootstrap.log',\n",
       " 'Xorg.0.log',\n",
       " 'fontconfig.log']"
      ]
     },
     "execution_count": 6,
     "metadata": {},
     "output_type": "execute_result"
    }
   ],
   "source": [
    "import os\n",
    "f1 = os.listdir('/var/log')\n",
    "f2 = [i for i in f1 if i.endswith('.log')]#只匹配出.log结尾\n",
    "f2"
   ]
  },
  {
   "cell_type": "code",
   "execution_count": 9,
   "metadata": {
    "collapsed": false,
    "scrolled": true
   },
   "outputs": [
    {
     "name": "stdout",
     "output_type": "stream",
     "text": [
      "[('x', 1), ('x', 2), ('x', 3), ('y', 1), ('y', 2), ('y', 3), ('z', 1), ('z', 2), ('z', 3)]\n",
      "9\n"
     ]
    }
   ],
   "source": [
    "l1 = ['x', 'y', 'z']\n",
    "l2 = [1, 2, 3]\n",
    "l3 = [(i, j) for i in l1 for j in l2]\n",
    "print(l3)\n",
    "print(len(l3))"
   ]
  },
  {
   "cell_type": "code",
   "execution_count": 12,
   "metadata": {
    "collapsed": false,
    "scrolled": true
   },
   "outputs": [
    {
     "data": {
      "text/plain": [
       "[('y', 1), ('y', 2), ('y', 3), ('z', 1), ('z', 2), ('z', 3)]"
      ]
     },
     "execution_count": 12,
     "metadata": {},
     "output_type": "execute_result"
    }
   ],
   "source": [
    "l1 = ['x', 'y', 'z']\n",
    "l2 = [1, 2, 3]\n",
    "l3 = [(i, j) for i in l1 for j in l2 if i != 'x']\n",
    "l3"
   ]
  }
 ],
 "metadata": {
  "kernelspec": {
   "display_name": "Python 3",
   "language": "python",
   "name": "python3"
  },
  "language_info": {
   "codemirror_mode": {
    "name": "ipython",
    "version": 3
   },
   "file_extension": ".py",
   "mimetype": "text/x-python",
   "name": "python",
   "nbconvert_exporter": "python",
   "pygments_lexer": "ipython3",
   "version": "3.5.2+"
  }
 },
 "nbformat": 4,
 "nbformat_minor": 1
}
