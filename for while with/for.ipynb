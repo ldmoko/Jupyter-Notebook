{
 "cells": [
  {
   "cell_type": "code",
   "execution_count": 29,
   "metadata": {
    "collapsed": false
   },
   "outputs": [
    {
     "name": "stdout",
     "output_type": "stream",
     "text": [
      "True\n",
      "True\n",
      "False\n",
      "True\n",
      "True\n"
     ]
    }
   ],
   "source": [
    "#判断一个对象是否是可迭代对象\n",
    "from collections import Iterable\n",
    "print(isinstance('abc', Iterable)) #str是否可迭代\n",
    "print(isinstance([1,2,3], Iterable)) #list是否可迭代\n",
    "print(isinstance(123, Iterable)) #整数是否可迭代\n",
    "print(isinstance((1,2,3), Iterable)) #元组是否可迭代\n",
    "print(isinstance({}, Iterable)) #字典是否可迭代"
   ]
  },
  {
   "cell_type": "code",
   "execution_count": 30,
   "metadata": {
    "collapsed": false,
    "scrolled": true
   },
   "outputs": [
    {
     "name": "stdout",
     "output_type": "stream",
     "text": [
      "0 A\n",
      "1 B\n",
      "2 C\n"
     ]
    }
   ],
   "source": [
    "#迭代-枚举\n",
    "for i, v in enumerate(['A', 'B', 'C']):\n",
    "    print(i, v)"
   ]
  },
  {
   "cell_type": "code",
   "execution_count": 55,
   "metadata": {
    "collapsed": false,
    "scrolled": false
   },
   "outputs": [
    {
     "name": "stdout",
     "output_type": "stream",
     "text": [
      "a\n",
      "c\n",
      "b\n"
     ]
    }
   ],
   "source": [
    "#只对键的遍历d.keys()\n",
    "d = {'a': 100, 'b': 200, 'c': 300}\n",
    "for key in d:#等价for key in d.keys():\n",
    "    print(key)"
   ]
  },
  {
   "cell_type": "code",
   "execution_count": 51,
   "metadata": {
    "collapsed": false,
    "scrolled": true
   },
   "outputs": [
    {
     "name": "stdout",
     "output_type": "stream",
     "text": [
      "100\n",
      "300\n",
      "200\n"
     ]
    }
   ],
   "source": [
    "#只对值的遍历d.values()\n",
    "d = {'a': 100, 'b': 200, 'c': 300}\n",
    "for key in d.values():\n",
    "    print(key)"
   ]
  },
  {
   "cell_type": "code",
   "execution_count": 1,
   "metadata": {
    "collapsed": false,
    "scrolled": true
   },
   "outputs": [
    {
     "name": "stdout",
     "output_type": "stream",
     "text": [
      "b 200\n",
      "a 100\n",
      "c 300\n"
     ]
    }
   ],
   "source": [
    "#遍历键和值d.items()\n",
    "d = {'a': 100, 'b': 200, 'c': 300}\n",
    "for key, v in d.items():\n",
    "    print(key, v)"
   ]
  },
  {
   "cell_type": "code",
   "execution_count": 9,
   "metadata": {
    "collapsed": false
   },
   "outputs": [
    {
     "name": "stdout",
     "output_type": "stream",
     "text": [
      "a 100\n",
      "b 200\n",
      "c 300\n",
      "d 400\n"
     ]
    }
   ],
   "source": [
    "#上面的例子字典，迭代遍历出来是没有顺序的，如果顺序重要，可以想办法把字典保存在列表中再处理\n",
    "d = [('a', 100), ('b', 200), ('c', 300), ('d', 400)]\n",
    "for key, v in d:\n",
    "    print(key, v)"
   ]
  },
  {
   "cell_type": "code",
   "execution_count": 16,
   "metadata": {
    "collapsed": false,
    "scrolled": false
   },
   "outputs": [
    {
     "name": "stdout",
     "output_type": "stream",
     "text": [
      "小甲鱼 88\n",
      "黑夜 90\n",
      "迷途 85\n",
      "怡静 90\n",
      "秋舞斜阳 88\n"
     ]
    }
   ],
   "source": [
    "#原理同上例子\n",
    "member = [('小甲鱼', 88), ('黑夜', 90), ('迷途', 85), ('怡静', 90), ('秋舞斜阳', 88)]\n",
    "for x, y in member:\n",
    "    print(x, y)"
   ]
  },
  {
   "cell_type": "code",
   "execution_count": 17,
   "metadata": {
    "collapsed": false,
    "scrolled": true
   },
   "outputs": [
    {
     "name": "stdout",
     "output_type": "stream",
     "text": [
      "小甲鱼\n",
      "88\n",
      "黑夜\n",
      "90\n",
      "迷途\n",
      "85\n",
      "怡静\n",
      "90\n",
      "秋舞斜阳\n",
      "88\n"
     ]
    }
   ],
   "source": [
    "#迭代list\n",
    "member = ['小甲鱼', 88, '黑夜', 90, '迷途', 85, '怡静', 90, '秋舞斜阳', 88]\n",
    "for each in member:\n",
    "    print(each)"
   ]
  },
  {
   "cell_type": "code",
   "execution_count": 18,
   "metadata": {
    "collapsed": false
   },
   "outputs": [
    {
     "name": "stdout",
     "output_type": "stream",
     "text": [
      "小甲鱼 88\n",
      "黑夜 90\n",
      "迷途 85\n",
      "怡静 90\n",
      "秋舞斜阳 88\n"
     ]
    }
   ],
   "source": [
    "member = ['小甲鱼', 88, '黑夜', 90, '迷途', 85, '怡静', 90, '秋舞斜阳', 88]\n",
    "count = 0\n",
    "length = len(member)\n",
    "while count < length:\n",
    "    print(member[count], member[count+1])\n",
    "    count += 2"
   ]
  },
  {
   "cell_type": "code",
   "execution_count": 24,
   "metadata": {
    "collapsed": false
   },
   "outputs": [
    {
     "name": "stdout",
     "output_type": "stream",
     "text": [
      "小甲鱼 88\n",
      "黑夜 90\n",
      "迷途 85\n",
      "怡静 90\n",
      "秋舞斜阳 88\n",
      "99 98\n"
     ]
    }
   ],
   "source": [
    "member = ['小甲鱼', 88, '黑夜', 90, '迷途', 85, '怡静', 90, '秋舞斜阳', 88, 99, 98]\n",
    "for each in range(len(member)):\n",
    "    if each%2 == 0:#不加此判断，如列表出现奇数，打印出来会报错，因为是一一对应\n",
    "        print(member[each], member[each+1])"
   ]
  },
  {
   "cell_type": "code",
   "execution_count": 25,
   "metadata": {
    "collapsed": false,
    "scrolled": false
   },
   "outputs": [
    {
     "name": "stdout",
     "output_type": "stream",
     "text": [
      "当前水果 : banana\n",
      "当前水果 : apple\n",
      "当前水果 : mango\n",
      "--------------------\n",
      "当前水果 : banana\n",
      "当前水果 : apple\n",
      "当前水果 : mango\n",
      "--------------------\n",
      "当前水果 : banana\n",
      "当前水果 : apple\n",
      "当前水果 : mango\n"
     ]
    }
   ],
   "source": [
    "#通过序列索引迭代\n",
    "fruits = ['banana', 'apple',  'mango']\n",
    "for index in range(len(fruits)):#函数 len() 返回列表的长度，即元素的个数；range返回一个序列的数。\n",
    "    print ('当前水果 :', fruits[index])\n",
    "print('--------------------')  \n",
    "fruits = ['banana', 'apple',  'mango']\n",
    "for index in range(0, 3):\n",
    "    print ('当前水果 :', fruits[index])    \n",
    "print('--------------------')\n",
    "fruits = ['banana', 'apple',  'mango']\n",
    "for index in fruits:\n",
    "    print ('当前水果 :', index)"
   ]
  },
  {
   "cell_type": "code",
   "execution_count": 28,
   "metadata": {
    "collapsed": false
   },
   "outputs": [
    {
     "name": "stdout",
     "output_type": "stream",
     "text": [
      "我爱你\n",
      "我爱你\n",
      "我爱你\n",
      "我爱你\n",
      "我爱你\n"
     ]
    }
   ],
   "source": [
    "for i in range(0, 10, 2):#range(10),也就是0-9,一共有10次；步进2次，所以打印5次\n",
    "    print('我爱你')"
   ]
  }
 ],
 "metadata": {
  "kernelspec": {
   "display_name": "Python 3",
   "language": "python",
   "name": "python3"
  },
  "language_info": {
   "codemirror_mode": {
    "name": "ipython",
    "version": 3
   },
   "file_extension": ".py",
   "mimetype": "text/x-python",
   "name": "python",
   "nbconvert_exporter": "python",
   "pygments_lexer": "ipython3",
   "version": "3.5.2+"
  }
 },
 "nbformat": 4,
 "nbformat_minor": 1
}
