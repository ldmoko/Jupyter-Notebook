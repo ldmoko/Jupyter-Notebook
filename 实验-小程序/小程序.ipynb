{
 "cells": [
  {
   "cell_type": "code",
   "execution_count": null,
   "metadata": {
    "collapsed": false,
    "scrolled": true
   },
   "outputs": [],
   "source": [
    "#验证用户密码程序，用户只有三次机会输入错误，不过如果用户输入的内容中包含\"*\"则不计算在内\n",
    "count = 3\n",
    "password = '666'\n",
    "\n",
    "while count:\n",
    "    passwd = input('请输入密码：')\n",
    "    if passwd == password:\n",
    "        print('密码正确，进入程序......')\n",
    "        break\n",
    "    elif '*' in passwd:\n",
    "        print('密码中不能含有\"*\"号！您还有', count, '次机会！', end=' ')\n",
    "        #此处不加count -= 1，表示输入*不会减少机会的次数\n",
    "        continue\n",
    "    else:\n",
    "        print('密码输入错误！您还有', count-1, '次机会！', end=' ')\n",
    "                \n",
    "    count -= 1\n",
    "if count == 0:\n",
    "    print('再见')"
   ]
  },
  {
   "cell_type": "code",
   "execution_count": 4,
   "metadata": {
    "collapsed": false
   },
   "outputs": [
    {
     "name": "stdout",
     "output_type": "stream",
     "text": [
      "red\tyellow\tgreen\n",
      "0 \t 2 \t 6\n",
      "0 \t 3 \t 5\n",
      "1 \t 1 \t 6\n",
      "1 \t 2 \t 5\n",
      "1 \t 3 \t 4\n",
      "2 \t 0 \t 6\n",
      "2 \t 1 \t 5\n",
      "2 \t 2 \t 4\n",
      "2 \t 3 \t 3\n",
      "3 \t 0 \t 5\n",
      "3 \t 1 \t 4\n",
      "3 \t 2 \t 3\n",
      "3 \t 3 \t 2\n"
     ]
    }
   ],
   "source": [
    "print('red\\tyellow\\tgreen')\n",
    "for red in range(0, 4):\n",
    "    for yellow in range(0, 4):\n",
    "        for green in range(2, 7):\n",
    "            if red + yellow + green == 8:\n",
    "                # 注意，下边不是字符串拼接，因此不用“+”哦~\n",
    "                print(red, '\\t', yellow, '\\t', green)"
   ]
  },
  {
   "cell_type": "code",
   "execution_count": 1,
   "metadata": {
    "collapsed": false,
    "scrolled": false
   },
   "outputs": [
    {
     "name": "stdout",
     "output_type": "stream",
     "text": [
      "153\n",
      "370\n",
      "371\n",
      "407\n"
     ]
    }
   ],
   "source": [
    "#求 100~999 之间的所有水仙花数\n",
    "#如果一个 3 位数等于其各位数字的立方和，则称这个数为水仙花数。例如：153 = 1^3 + 5^3 + 3^3，因此 153 就是一个水仙花数\n",
    "for i in range(100, 1000):\n",
    "    sum = 0\n",
    "    temp = i\n",
    "    while temp:\n",
    "        sum = sum + (temp%10) ** 3\n",
    "        temp //= 10         # 注意这里要使用地板除哦~\n",
    "    if sum == i:\n",
    "        print(i)"
   ]
  },
  {
   "cell_type": "code",
   "execution_count": 2,
   "metadata": {
    "collapsed": true
   },
   "outputs": [],
   "source": [
    "import re\n",
    "import urllib.request\n",
    "from http.cookiejar import CookieJar\n",
    "\n",
    "# 豆瓣的登录url \n",
    "loginurl = 'https://www.douban.com/accounts/login'\n",
    "cookie = CookieJar()\n",
    "opener = urllib.request.build_opener(urllib.request.HTTPCookieProcessor)\n",
    " \n",
    "data = {\n",
    "    \"form_email\":\"your email\",\n",
    "    \"form_password\":\"your password\",\n",
    "    \"source\":\"index_nav\"\n",
    "}\n",
    "data = {}\n",
    "data['form_email'] = '你的账号'\n",
    "data['form_password'] = '你的密码'\n",
    "data['source'] = 'index_nav'\n",
    "\n",
    "response = opener.open(loginurl, urllib.parse.urlencode(data).encode('utf-8'))\n",
    "\n",
    "#验证成功跳转至登录页\n",
    "if response.geturl() == \"https://www.douban.com/accounts/login\":\n",
    "    html = response.read().decode()\n",
    "    \n",
    "    #验证码图片地址\n",
    "    imgurl = re.search('<img id=\"captcha_image\" src=\"(.+?)\" alt=\"captcha\" class=\"captcha_image\"/>', html)\n",
    "    if imgurl:\n",
    "        url = imgurl.group(1)\n",
    "        # 将验证码图片保存至同目录下\n",
    "        res = urllib.request.urlretrieve(url, 'v.jpg')\n",
    "\n",
    "        # 获取captcha-id参数\n",
    "        captcha = re.search('<input type=\"hidden\" name=\"captcha-id\" value=\"(.+?)\"/>' ,html)\n",
    "\n",
    "        if captcha:\n",
    "            vcode = input('请输入图片上的验证码：')\n",
    "            data[\"captcha-solution\"] = vcode\n",
    "            data[\"captcha-id\"] = captcha.group(1)\n",
    "            data[\"user_login\"] = \"登录\"\n",
    "\n",
    "            # 提交验证码验证\n",
    "            response = opener.open(loginurl, urllib.parse.urlencode(data).encode('utf-8'))\n",
    "\n",
    "            # 登录成功跳转至首页 '''\n",
    "            if response.geturl() == \"http://www.douban.com/\":\n",
    "                print('登录成功！')\n"
   ]
  }
 ],
 "metadata": {
  "kernelspec": {
   "display_name": "Python 3",
   "language": "python",
   "name": "python3"
  },
  "language_info": {
   "codemirror_mode": {
    "name": "ipython",
    "version": 3
   },
   "file_extension": ".py",
   "mimetype": "text/x-python",
   "name": "python",
   "nbconvert_exporter": "python",
   "pygments_lexer": "ipython3",
   "version": "3.5.2+"
  }
 },
 "nbformat": 4,
 "nbformat_minor": 1
}
