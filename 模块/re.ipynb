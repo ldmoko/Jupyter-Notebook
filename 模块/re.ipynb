{
 "cells": [
  {
   "cell_type": "code",
   "execution_count": 16,
   "metadata": {
    "collapsed": false,
    "scrolled": true
   },
   "outputs": [
    {
     "name": "stdout",
     "output_type": "stream",
     "text": [
      "(0, 3)\n",
      "None\n",
      "(4, 7)\n"
     ]
    }
   ],
   "source": [
    "import re\n",
    "\n",
    "print(re.match('www', 'www.baidu.com').span())#在起始位置匹配\n",
    "print(re.match('com', 'www.baidu.com'))#只匹配开始，不符合就匹配失败，返回none\n",
    "print(re.search('bai', 'www.baidu.com').span())\n",
    "\n"
   ]
  },
  {
   "cell_type": "code",
   "execution_count": 12,
   "metadata": {
    "collapsed": false,
    "scrolled": true
   },
   "outputs": [
    {
     "data": {
      "text/plain": [
       "['dit', 'dit']"
      ]
     },
     "execution_count": 12,
     "metadata": {},
     "output_type": "execute_result"
    }
   ],
   "source": [
    "#. ^ $ * + ? {} [] \\ | ()\n",
    "import re\n",
    "str1 = 'dit dot det,dct .dit dot'  \n",
    "re.findall('dit',str1)"
   ]
  },
  {
   "cell_type": "code",
   "execution_count": 11,
   "metadata": {
    "collapsed": false,
    "scrolled": true
   },
   "outputs": [
    {
     "data": {
      "text/plain": [
       "['dit', 'dct', 'dit']"
      ]
     },
     "execution_count": 11,
     "metadata": {},
     "output_type": "execute_result"
    }
   ],
   "source": [
    "#作用：'dit|dct'表示dit或者dct\n",
    "str1 = 'dit dot det,dct dit dot'  \n",
    "re.findall('dit|dct',str1)"
   ]
  },
  {
   "cell_type": "code",
   "execution_count": 10,
   "metadata": {
    "collapsed": false,
    "scrolled": true
   },
   "outputs": [
    {
     "data": {
      "text/plain": [
       "['dit', 'dct', 'dit']"
      ]
     },
     "execution_count": 10,
     "metadata": {},
     "output_type": "execute_result"
    }
   ],
   "source": [
    "#作用：[ic]表示i或c，例如'd[ic]t'表示dit和dct两者，和'dit|dct'等价：\n",
    "str1 = 'dit dot det,dct dit dot'\n",
    "re.findall('d[ic]t',str1)"
   ]
  },
  {
   "cell_type": "code",
   "execution_count": 13,
   "metadata": {
    "collapsed": false,
    "scrolled": true
   },
   "outputs": [
    {
     "data": {
      "text/plain": [
       "['dot', 'det', 'dot']"
      ]
     },
     "execution_count": 13,
     "metadata": {},
     "output_type": "execute_result"
    }
   ],
   "source": [
    "#^作用一：[^ic]中^表示否定，即除了i和c：\n",
    "str1 = 'dit dot det,dct dit dot'  \n",
    "re.findall('d[^ic]t',str1)"
   ]
  },
  {
   "cell_type": "code",
   "execution_count": 18,
   "metadata": {
    "collapsed": false,
    "scrolled": true
   },
   "outputs": [
    {
     "name": "stdout",
     "output_type": "stream",
     "text": [
      "['dit']\n",
      "[]\n"
     ]
    }
   ],
   "source": [
    "#^作用二：^dit表示子串dit在开头位置，而dct不是在开头：\n",
    "str1 = 'dit dot det,dct dit dot'  \n",
    "print(re.findall('^dit',str1))\n",
    "print(re.findall('^dct',str1))"
   ]
  },
  {
   "cell_type": "code",
   "execution_count": 20,
   "metadata": {
    "collapsed": false
   },
   "outputs": [
    {
     "name": "stdout",
     "output_type": "stream",
     "text": [
      "['dot']\n",
      "[]\n"
     ]
    }
   ],
   "source": [
    "#$作用：dot$表示子串dot要在末尾位置，而dct不是在末尾：\n",
    "str1 = 'dit dot det,dct dit dot'  \n",
    "print (re.findall('dot$',str1)) \n",
    "print (re.findall('dct$',str1))"
   ]
  },
  {
   "cell_type": "code",
   "execution_count": 24,
   "metadata": {
    "collapsed": false,
    "scrolled": true
   },
   "outputs": [
    {
     "data": {
      "text/plain": [
       "['dit', 'dot', 'det', 'dct', 'dit', 'dot', 'd9t']"
      ]
     },
     "execution_count": 24,
     "metadata": {},
     "output_type": "execute_result"
    }
   ],
   "source": [
    "#.作用：d.t表示d与t之间省略了一个任意字符：\n",
    "str1 = 'dit dot det,dct dit dot d9t'\n",
    "re.findall('d.t',str1)"
   ]
  },
  {
   "cell_type": "code",
   "execution_count": 45,
   "metadata": {
    "collapsed": false,
    "scrolled": true
   },
   "outputs": [
    {
     "data": {
      "text/plain": [
       "['dit', 'diit', 'dit', 'diiiiiit']"
      ]
     },
     "execution_count": 45,
     "metadata": {},
     "output_type": "execute_result"
    }
   ],
   "source": [
    "#+作用：di+t表示d与t之间省略了一个或多个'i'：\n",
    "str1 = 'dit diit dit123t diiiiiit deet dilt daati'\n",
    "re.findall('di+t',str1)#可以把i换成e或a看看效果"
   ]
  },
  {
   "cell_type": "code",
   "execution_count": 51,
   "metadata": {
    "collapsed": false,
    "scrolled": true
   },
   "outputs": [
    {
     "data": {
      "text/plain": [
       "['dt', 'dit', 'diit']"
      ]
     },
     "execution_count": 51,
     "metadata": {},
     "output_type": "execute_result"
    }
   ],
   "source": [
    "#*作用：di*t表示d与t之间省略了零个至多个'i'：\n",
    "str1 = 'dt dit diit det'  \n",
    "re.findall('di*t',str1)"
   ]
  },
  {
   "cell_type": "code",
   "execution_count": 55,
   "metadata": {
    "collapsed": false,
    "scrolled": true
   },
   "outputs": [
    {
     "name": "stdout",
     "output_type": "stream",
     "text": [
      "['d dt dit diit det']\n",
      "['d dt dit diit det']\n"
     ]
    }
   ],
   "source": [
    "#'.'和'+'或者'*'搭配使用。'.+'表示省略了一个至多个任意元素;'.*'表示省略了零个至多个任意元素：\n",
    "str1 = 'd dt dit diit det'  \n",
    "print (re.findall('d.+t',str1))  \n",
    "print (re.findall('d.*t',str1))"
   ]
  },
  {
   "cell_type": "code",
   "execution_count": 60,
   "metadata": {
    "collapsed": false
   },
   "outputs": [
    {
     "name": "stdout",
     "output_type": "stream",
     "text": [
      "['dit diit det dot']\n",
      "['dit', 'diit', 'det', 'dot']\n"
     ]
    }
   ],
   "source": [
    "#？作用一：看.+的匹配结果，'dit'、'dot'也满足'd.+t'的匹配条件，这个叫贪婪匹配。\n",
    "#如果要输出最短的匹配字串，只需在'+'后面加上'？'：（注：对于'*'也是一样，只需在'*'后面加上'？'）\n",
    "str1 = 'dit diit det dot'\n",
    "print (re.findall('d.+t', str1))\n",
    "print (re.findall('d.+?t', str1))"
   ]
  },
  {
   "cell_type": "code",
   "execution_count": 12,
   "metadata": {
    "collapsed": false
   },
   "outputs": [
    {
     "name": "stdout",
     "output_type": "stream",
     "text": [
      "['dt', 'dit']\n",
      "-------------\n",
      "['rub', 'ruby']\n"
     ]
    }
   ],
   "source": [
    "import re\n",
    "#？作用二：di?t表示i可有可无，即dt、dit都满足匹配条件：\n",
    "str1 = 'd dt dit diit det'  \n",
    "print(re.findall('di?t', str1))\n",
    "print('-------------')\n",
    "str2 = 'rub ruby'#y是可选的，可有可无。\n",
    "print(re.findall('ruby?', str2))"
   ]
  },
  {
   "cell_type": "code",
   "execution_count": 13,
   "metadata": {
    "collapsed": false,
    "scrolled": false
   },
   "outputs": [
    {
     "data": {
      "text/plain": [
       "['diit']"
      ]
     },
     "execution_count": 13,
     "metadata": {},
     "output_type": "execute_result"
    }
   ],
   "source": [
    "#{}作用一：di{n}t表示d和t之间有n个'i'：\n",
    "str1 = 'dt dit diit diiit diiiit'  \n",
    "re.findall('di{2}t',str1)"
   ]
  },
  {
   "cell_type": "code",
   "execution_count": 23,
   "metadata": {
    "collapsed": false,
    "scrolled": true
   },
   "outputs": [
    {
     "name": "stdout",
     "output_type": "stream",
     "text": [
      "['dit', 'diit', 'diiit']\n",
      "----------------------------------------\n",
      "['dit', 'diit', 'diiit', 'diiiit']\n",
      "['dt', 'dit', 'diit', 'diiit']\n",
      "['dt', 'dit', 'diit', 'diiit', 'diiiit']\n",
      "['dt', 'dit', 'diit', 'diiit', 'diiiit']\n",
      "['dit', 'diit', 'diiit', 'diiiit']\n"
     ]
    }
   ],
   "source": [
    "#{}作用二：di{n,m}t表示d和t之间有n到m个'i'：\n",
    "str1 = 'dt dit diit diiit diiiit'\n",
    "print(re.findall('di{1,3}t',str1))\n",
    "print('----------------------------------------')\n",
    "#n和m都是可以省略的。{n,}表示n个到任意个；{,m}表示0个到m个；{,}表示任意个，和'*'功能一样：\n",
    "print (re.findall('di{1,}t', str1))\n",
    "print (re.findall('di{,3}t', str1))\n",
    "print (re.findall('di{,}t', str1))\n",
    "print (re.findall('di*t', str1))\n",
    "print (re.findall('di+t', str1))#因为+表示1到任意个，所以dt不算。"
   ]
  },
  {
   "cell_type": "code",
   "execution_count": 26,
   "metadata": {
    "collapsed": false,
    "scrolled": true
   },
   "outputs": [
    {
     "name": "stdout",
     "output_type": "stream",
     "text": [
      "['abc']\n",
      "['^abc', '^abc']\n"
     ]
    }
   ],
   "source": [
    "#\\作用一：取消元字符，变成转义字符：\n",
    "str1 = 'abc ^abc ^abc abc'  \n",
    "print (re.findall('^abc', str1))#^表示匹配开头，所以它只匹配开头的abc，后面的并没匹配\n",
    "print (re.findall('\\^abc', str1))"
   ]
  },
  {
   "cell_type": "code",
   "execution_count": 31,
   "metadata": {
    "collapsed": false,
    "scrolled": true
   },
   "outputs": [
    {
     "name": "stdout",
     "output_type": "stream",
     "text": [
      "['12', '345']\n",
      "[' abc ', ' efgh']\n",
      "----------------------------\n",
      "[' ', ' ', ' ']\n",
      "['12', 'abc', '345', 'efgh']\n",
      "----------------------------\n",
      "['12', 'abc', '345', 'efgh']\n",
      "[' ', ' ', ' ']\n"
     ]
    }
   ],
   "source": [
    "#\\作用二：预定义字符\n",
    "#\\d匹配任何十进制，等价于[0-9]\n",
    "#\\D匹配任何非数字字符，等价于[^0-9]\n",
    "#\\s匹配任何空白字符，等价于[\\t\\n\\r\\f\\v]\n",
    "#\\S匹配任何非空白字符，等价于[^\\t\\n\\r\\f\\v]\n",
    "#\\w匹配任何字母数字字符，等价于[a-zA-Z0-9]\n",
    "#\\W匹配任何非字母数字字符，等价于[^a-zA-Z0-9]\n",
    "str1 = '12 abc 345 efgh'  \n",
    "print (re.findall('\\d+',str1))\n",
    "print (re.findall('\\D+',str1))\n",
    "print('----------------------------')\n",
    "print (re.findall('\\s+',str1))\n",
    "print (re.findall('\\S+',str1))\n",
    "print('----------------------------')\n",
    "print (re.findall('\\w+',str1))\n",
    "print (re.findall('\\W+',str1))"
   ]
  },
  {
   "cell_type": "code",
   "execution_count": 37,
   "metadata": {
    "collapsed": false,
    "scrolled": false
   },
   "outputs": [
    {
     "name": "stdout",
     "output_type": "stream",
     "text": [
      "['12abcd34']\n",
      "['2a']\n",
      "[('2a', 'd3')]\n",
      "--------------\n",
      "[]\n"
     ]
    }
   ],
   "source": [
    "#()作用：在匹配字符串后，只输出匹配字串'()'里面的内容：\n",
    "str1 = '12abcd34'\n",
    "print (re.findall('12abcd34',str1))\n",
    "print (re.findall('1(2a)bcd34',str1))\n",
    "print (re.findall('1(2a)bc(d3)4',str1))\n",
    "print('--------------')\n",
    "print (re.findall('3(2a)bc(d3)4',str1))"
   ]
  },
  {
   "cell_type": "code",
   "execution_count": 38,
   "metadata": {
    "collapsed": false,
    "scrolled": true
   },
   "outputs": [
    {
     "name": "stdout",
     "output_type": "stream",
     "text": [
      "['ab', 'cd']\n"
     ]
    }
   ],
   "source": [
    "#re.findall(pattern,string,flags = 0)\n",
    "#作用：在string中从左往右搜索与pattern匹配的字串，结果以list形式返回。\n",
    "str1 = 'ab cd'  \n",
    "print (re.findall('\\w+',str1))"
   ]
  },
  {
   "cell_type": "code",
   "execution_count": 43,
   "metadata": {
    "collapsed": false,
    "scrolled": true
   },
   "outputs": [
    {
     "name": "stdout",
     "output_type": "stream",
     "text": [
      "abb (0, 3)\n",
      "ecd (4, 7)\n"
     ]
    }
   ],
   "source": [
    "#re.finditer(pattern,string,flags = 0)\n",
    "#作用：其功能与re.findall相同，但结果以迭代器的形式返回。\n",
    "str1 = 'abb ecd'  \n",
    "iter1 = re.finditer('\\w+',str1)  \n",
    "for a in iter1:  \n",
    "    print (a.group(),a.span())#a.group()返回满足匹配调节的字串，a.span()返回字串的起始位置和末尾位置）"
   ]
  },
  {
   "cell_type": "code",
   "execution_count": 47,
   "metadata": {
    "collapsed": false,
    "scrolled": false
   },
   "outputs": [
    {
     "name": "stdout",
     "output_type": "stream",
     "text": [
      "cd 3 5 (3, 5)\n",
      "None\n"
     ]
    }
   ],
   "source": [
    "#re.search(pattern,string,flags = 0)\n",
    "#作用：在string中从左往右搜索与pattern匹配的字串，无匹配结果则返回None，否则返回一个search实例。\n",
    "str1 = 'ab cd'  \n",
    "result1 = re.search('cd',str1)  \n",
    "print (result.group(),result.start(),result.end(), result.span())\n",
    "'''\n",
    "start([group]): \n",
    "返回指定的组截获的子串在string中的起始索引（子串第一个字符的索引）。group默认值为0。\n",
    "end([group]): \n",
    "返回指定的组截获的子串在string中的结束索引（子串最后一个字符的索引+1）。group默认值为0。\n",
    "''' \n",
    "result2 = re.search('ce',str1)\n",
    "print (result2)"
   ]
  },
  {
   "cell_type": "code",
   "execution_count": 52,
   "metadata": {
    "collapsed": false,
    "scrolled": true
   },
   "outputs": [
    {
     "name": "stdout",
     "output_type": "stream",
     "text": [
      "<_sre.SRE_Match object; span=(0, 2), match='ab'>\n",
      "None\n"
     ]
    }
   ],
   "source": [
    "#re.match(pattern,string,flags = 0)\n",
    "#作用：判断string的头部是否与pattern匹配，是则返回match实例，否则返回None。\n",
    "str1 = 'ab cd'\n",
    "re1 = re.match('ab',str1)\n",
    "print(re1)\n",
    "print(re.match('cd',str1))"
   ]
  },
  {
   "cell_type": "code",
   "execution_count": 54,
   "metadata": {
    "collapsed": false,
    "scrolled": true
   },
   "outputs": [
    {
     "name": "stdout",
     "output_type": "stream",
     "text": [
      "['ab']\n"
     ]
    }
   ],
   "source": [
    "##################################还没理解\n",
    "#re.compile(pattern,flags = 0)\n",
    "#作用：对匹配格式pattern进行编译，返回一个实例对象。对正则表达式先编译，可以大幅提高匹配速度。\n",
    "str1 = 'ab cd'  \n",
    "pre = re.compile('ab')  \n",
    "print (pre.findall(str1))"
   ]
  },
  {
   "cell_type": "code",
   "execution_count": 59,
   "metadata": {
    "collapsed": false,
    "scrolled": false
   },
   "outputs": [
    {
     "name": "stdout",
     "output_type": "stream",
     "text": [
      "['ab', 'c', 'de']\n",
      "['12', '34', '56', '78', '90']\n"
     ]
    }
   ],
   "source": [
    "#re.split(pattern,string,maxsplit = 0,flags = 0)\n",
    "#作用：在string匹配pattern的时候做分割：\n",
    "str1 = 'ab.c.de'  \n",
    "str2 = '12+34-56*78/90'  \n",
    "print (re.split('\\.',str1))#\\是转义\n",
    "print (re.split('[\\+\\-\\*/]',str2))#/不用转义也行"
   ]
  },
  {
   "cell_type": "code",
   "execution_count": 60,
   "metadata": {
    "collapsed": false,
    "scrolled": false
   },
   "outputs": [
    {
     "name": "stdout",
     "output_type": "stream",
     "text": [
      "a123de\n"
     ]
    }
   ],
   "source": [
    "#re.sub(pattern,repl,string,count = 0,flags = 0)\n",
    "#作用：在string当中把满足pattern正则的字串替换成repl：\n",
    "str1 = 'abcde'\n",
    "print (re.sub('bc','123',str1))"
   ]
  },
  {
   "cell_type": "code",
   "execution_count": 67,
   "metadata": {
    "collapsed": false,
    "scrolled": true
   },
   "outputs": [
    {
     "data": {
      "text/plain": [
       "('a123de123e123123', 4)"
      ]
     },
     "execution_count": 67,
     "metadata": {},
     "output_type": "execute_result"
    }
   ],
   "source": [
    "#re.subn(pattern,repl,string,count = 0,flags = 0)\n",
    "#作用：其功能与re.sub()相同，但返回的结果多了一个数字，代表替换了多少次\n",
    "str1 = 'abcdebcebcbc'\n",
    "re.subn('bc','123',str1)"
   ]
  },
  {
   "cell_type": "code",
   "execution_count": 78,
   "metadata": {
    "collapsed": false
   },
   "outputs": [
    {
     "name": "stdout",
     "output_type": "stream",
     "text": [
      "Please input URL:http://mm.taobao.com/json/request_top_list.htm?type=0&page=8\n",
      "Finish!\n"
     ]
    }
   ],
   "source": [
    "import re  \n",
    "import urllib.request  \n",
    "global a  \n",
    "a = 1  \n",
    "  \n",
    "def getHtml(url):  \n",
    "    page = urllib.request.urlopen(url)  \n",
    "    html1 = page.read()  \n",
    "    return html1  \n",
    "       \n",
    "def getImg(html1):  \n",
    "    global a  \n",
    "    reg = 'src=\"(http://img.{,110}?\\.jpg)\"'  \n",
    "    imgre = re.compile(reg)  \n",
    "    imglist = imgre.findall(html1)  \n",
    "    for imgurl in imglist:  \n",
    "        urllib.request.urlretrieve(imgurl,'%d.jpg'%a)  \n",
    "        print (a,imgurl)  \n",
    "        a += 1  \n",
    "  \n",
    "strMain = input('Please input URL:')  \n",
    "htmlMain = getHtml(strMain)  \n",
    "regMain = 'a href=\"(http://mm.taobao.com/\\d+?\\.htm)'  \n",
    "urlSon = re.compile(regMain)  \n",
    "htmlList = urlSon.findall(regMain)  \n",
    "for html in htmlList:  \n",
    "    html0 = getHtml(html)  \n",
    "    getImg(html0)  \n",
    "      \n",
    "print ('Finish!') \n",
    "#示例网页：http://mm.taobao.com/json/request_top_list.htm?type=0&page=8"
   ]
  }
 ],
 "metadata": {
  "kernelspec": {
   "display_name": "Python 3",
   "language": "python",
   "name": "python3"
  },
  "language_info": {
   "codemirror_mode": {
    "name": "ipython",
    "version": 3
   },
   "file_extension": ".py",
   "mimetype": "text/x-python",
   "name": "python",
   "nbconvert_exporter": "python",
   "pygments_lexer": "ipython3",
   "version": "3.5.2+"
  }
 },
 "nbformat": 4,
 "nbformat_minor": 1
}
