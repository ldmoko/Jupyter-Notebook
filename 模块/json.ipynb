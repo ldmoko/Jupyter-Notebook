{
 "cells": [
  {
   "cell_type": "code",
   "execution_count": 1,
   "metadata": {
    "collapsed": false,
    "scrolled": true
   },
   "outputs": [
    {
     "data": {
      "text/plain": [
       "'[\"foo\", {\"bar\": [\"baz\", null, 1.0, 2]}]'"
      ]
     },
     "execution_count": 1,
     "metadata": {},
     "output_type": "execute_result"
    }
   ],
   "source": [
    ">>> import json\n",
    ">>> json.dumps(['foo', {'bar': ('baz', None, 1.0, 2)}])"
   ]
  },
  {
   "cell_type": "code",
   "execution_count": 6,
   "metadata": {
    "collapsed": false,
    "scrolled": true
   },
   "outputs": [
    {
     "data": {
      "text/plain": [
       "<function json.loads>"
      ]
     },
     "execution_count": 6,
     "metadata": {},
     "output_type": "execute_result"
    }
   ],
   "source": [
    "json.loads"
   ]
  },
  {
   "cell_type": "code",
   "execution_count": 53,
   "metadata": {
    "collapsed": false,
    "scrolled": true
   },
   "outputs": [
    {
     "data": {
      "text/plain": [
       "'[1,2,3,{\"6\":9,\"4\":5}]'"
      ]
     },
     "execution_count": 53,
     "metadata": {},
     "output_type": "execute_result"
    }
   ],
   "source": [
    "#输出的数据被格式化之后，变得可读性更强，但是却是通过增加一些冗余的空白格来进行填充的。\n",
    "#json主要是作为一种数据通信的格式存在的，而网络通信是很在乎数据的大小的，无用的空格会占据很多通信带宽，所以适当时候也要对数据进行压缩。\n",
    "#separator参数可以起到这样的作用，该参数传递是一个元组，包含分割对象的字符串。\n",
    "import json\n",
    "json.dumps([1,2, 3,{'4': 5, '6':               9}], separators=(',', ':'))\n",
    "#通过移除多余的空白符，达到了压缩数据的目的，而且效果还是比较明显的。"
   ]
  },
  {
   "cell_type": "code",
   "execution_count": 66,
   "metadata": {
    "collapsed": false
   },
   "outputs": [
    {
     "name": "stdout",
     "output_type": "stream",
     "text": [
      "{'a': 123, 'b': 789, 'c': 456}\n",
      "30\n",
      "44\n",
      "25\n"
     ]
    }
   ],
   "source": [
    "DATA = {'a': 123, 'c': 456, 'b': 789} \n",
    "print(DATA)\n",
    "print(len(json.dumps(DATA)))#正常长度\n",
    "print(len(json.dumps(DATA, indent=4)))#缩进后虽然优雅，但增加长度\n",
    "print(len(json.dumps(DATA, separators=(',', ':'))))#压缩过后，长度变短"
   ]
  },
  {
   "cell_type": "code",
   "execution_count": 50,
   "metadata": {
    "collapsed": false,
    "scrolled": true
   },
   "outputs": [
    {
     "name": "stdout",
     "output_type": "stream",
     "text": [
      "{\n",
      "    \"4\": 5,\n",
      "    \"6\": 7\n",
      "}\n"
     ]
    }
   ],
   "source": [
    ">>> import json\n",
    ">>> print(json.dumps({'4': 5, '6': 7}, sort_keys=True, indent=4))#排序及缩进，因为字典是无序的，缩进是看起来更优雅"
   ]
  },
  {
   "cell_type": "code",
   "execution_count": 36,
   "metadata": {
    "collapsed": false,
    "scrolled": false
   },
   "outputs": [
    {
     "name": "stdout",
     "output_type": "stream",
     "text": [
      "<class 'str'>\n",
      "[\"iplaypython\", [1, 2, 3], {\"name\": \"xiaoming\"}]\n"
     ]
    }
   ],
   "source": [
    "#使用json.dumps方法，将一个Python数据类型列表进行json格式的编码解析\n",
    "\n",
    "import json #导入python 中的json模块\n",
    "l = ['iplaypython',[1,2,3], {'name':'xiaoming'}] #创建一个列表list l\n",
    "encoded_json = json.dumps(l) # 将l列表，进行json格式化编码\n",
    "print (type(encoded_json)) #查看编码后的类型\n",
    "print (encoded_json) #输出结果"
   ]
  },
  {
   "cell_type": "code",
   "execution_count": 41,
   "metadata": {
    "collapsed": false
   },
   "outputs": [
    {
     "name": "stdout",
     "output_type": "stream",
     "text": [
      "<class 'list'>\n",
      "['iplaypython', [1, 2, 3], {'name': 'xiaoming'}]\n"
     ]
    }
   ],
   "source": [
    "#json.loads模块解码\n",
    ">>> decode_json = json.loads(encoded_json)\n",
    ">>> print (type(decode_json)) #查看一下解码后的对象类型\n",
    ">>> print (decode_json) #输出结果"
   ]
  },
  {
   "cell_type": "code",
   "execution_count": 40,
   "metadata": {
    "collapsed": false,
    "scrolled": true
   },
   "outputs": [
    {
     "name": "stdout",
     "output_type": "stream",
     "text": [
      "[[1, 2, 3], 123, 123.123, 'abc', {'key1': (1, 2, 3), 'key2': (4, 5, 6)}]\n",
      "[[1, 2, 3], 123, 123.123, \"abc\", {\"key1\": [1, 2, 3], \"key2\": [4, 5, 6]}]\n"
     ]
    }
   ],
   "source": [
    "import json\n",
    "#通过encode之后跟其原始的repr()输出结果非常相似，但是有些数据类型进行了改变，例如元组则转换为了列表\n",
    "obj = [[1,2,3],123,123.123,'abc',{'key1':(1,2,3),'key2':(4,5,6)}]\n",
    "encodedjson = json.dumps(obj)\n",
    "print (repr(obj))\n",
    "print (encodedjson)"
   ]
  },
  {
   "cell_type": "code",
   "execution_count": 39,
   "metadata": {
    "collapsed": false,
    "scrolled": true
   },
   "outputs": [
    {
     "name": "stdout",
     "output_type": "stream",
     "text": [
      "<class 'list'>\n",
      "[1, 2, 3]\n",
      "[[1, 2, 3], 123, 123.123, 'abc', {'key1': [1, 2, 3], 'key2': [4, 5, 6]}]\n"
     ]
    }
   ],
   "source": [
    "#json.dumps()方法返回了一个str对象encodedjson，我们接下来在对encodedjson进行decode，得到原始数据，需要使用的json.loads()函数：\n",
    "decodejson = json.loads(encodedjson)\n",
    "print (type(decodejson))\n",
    "print (decodejson[4]['key1'])\n",
    "print (decodejson)"
   ]
  },
  {
   "cell_type": "code",
   "execution_count": 51,
   "metadata": {
    "collapsed": false,
    "scrolled": true
   },
   "outputs": [
    {
     "name": "stdout",
     "output_type": "stream",
     "text": [
      "{\"4\": 5, \"b\": 789, \"c\": 456}\n",
      "{\"b\": 789, \"4\": 5, \"c\": 456}\n",
      "{\"4\": 5, \"b\": 789, \"c\": 456}\n",
      "False\n",
      "True\n"
     ]
    }
   ],
   "source": [
    "#排序功能使得存储的数据更加有利于观察，也使得对json输出的对象进行比较，例如：\n",
    "data1 = {'4':5,'c':456,'b':789}\n",
    "data2 = {'4':5,'b':789,'c':456}\n",
    "d1 = json.dumps(data1,sort_keys=True)\n",
    "d2 = json.dumps(data2)\n",
    "d3 = json.dumps(data2,sort_keys=True)\n",
    "print (d1)\n",
    "print (d2)\n",
    "print (d3)\n",
    "print (d1==d2)\n",
    "print (d1==d3)\n",
    "#本来data1和data2数据应该是一样的，但是由于dict存储的无序特性，造成两者无法比较。\n",
    "#因此两者可以通过排序后的结果进行存储就避免了数据比较不一致的情况发生。\n",
    "#但是排序后再进行存储，系统必定要多做一些事情，也一定会因此造成一定的性能消耗，所以适当排序是很重要的。"
   ]
  },
  {
   "cell_type": "code",
   "execution_count": 80,
   "metadata": {
    "collapsed": false
   },
   "outputs": [
    {
     "name": "stdout",
     "output_type": "stream",
     "text": [
      "[{\"a\": \"aaa\", \"b\": \"bbb\", \"c\": [1, 2, 3, [4, 5, 6]]}, 33, \"tantengvip\", true]\n"
     ]
    }
   ],
   "source": [
    "#总结：json.dumps : dict转成str     json.dump是将python数据保存成json\n",
    "#     json.loads:str转成dict       json.load是读取json数据 \n",
    "import json\n",
    "data = [{\"a\":\"aaa\",\"b\":\"bbb\",\"c\":[1,2,3,(4,5,6)]},33,'tantengvip',True]\n",
    "data2 = json.dumps(data)\n",
    "print(data2)\n",
    "f = open('./tt.txt','a')\n",
    "json.dump(data2,f)\n",
    "f.close()\n",
    "#生成了一个tt.txt文件，保存了json格式的数据"
   ]
  },
  {
   "cell_type": "code",
   "execution_count": 81,
   "metadata": {
    "collapsed": false,
    "scrolled": true
   },
   "outputs": [
    {
     "name": "stdout",
     "output_type": "stream",
     "text": [
      "/home/lidm/Python Jupyter Notebook/模块\n",
      "[{'update': '最新更新 第一百四十二章 战绩曝光', 'time': '2017-01-08 21:56', 'name': ['圣墟'], 'des': ['\\r\\n                                        ', '\\r\\n                                    ', '\\r\\n                                        在破败中崛起，在寂灭中复苏。沧海成尘，雷电枯竭，那一缕幽雾又一次临近大地，世间的枷锁被打开了，一个全新的世界就此揭开神秘的一角……\\r\\n                                    ', '\\r\\n                                    ', '\\r\\n                                        ', '\\r\\n                                        \\r\\n                                                ', '\\r\\n                                        \\r\\n\\r\\n                                    '], 'autor': '辰东'}, {'update': '最新更新 第1395章【一万年才出一个的害人精！】', 'time': '2017-01-08 23:55', 'name': ['我真是大明星'], 'des': ['\\r\\n                                        ', '\\r\\n                                    ', '\\r\\n                                        一心想当明星的张烨穿越到了一个类似地球的新世界。电视台。主持人招聘现场。一个声音高声朗诵：“在苍茫的大海上，狂风卷集着乌云。在乌云和大海之间，海燕像黑色的闪电，在高傲地飞翔……暴风\\r\\n                                    ', '\\r\\n                                    ', '\\r\\n                                        ', '\\r\\n                                        \\r\\n                                                ', '\\r\\n                                        \\r\\n\\r\\n                                    '], 'autor': '尝谕'}, {'update': '最新更新 第五百一十九章 九星天才的座位', 'time': '2017-01-08 21:18', 'name': ['不朽凡人'], 'des': ['\\r\\n                                        ', '\\r\\n                                    ', '\\r\\n                                        在这里，拥有灵根才能修仙，所有凡根注定只是凡人。莫无忌，只有凡根，一介凡人！\\r\\n                                    ', '\\r\\n                                    ', '\\r\\n                                        ', '\\r\\n                                        \\r\\n                                                ', '\\r\\n                                        \\r\\n\\r\\n                                    '], 'autor': '鹅是老五'}, {'update': '最新更新 第二百八十七章 火神重生', 'time': '2017-01-08 16:25', 'name': ['天影'], 'des': ['\\r\\n                                        ', '\\r\\n                                    ', '\\r\\n                                        阴阳分天地，五行定乾坤。天穹之下岁月沧桑的中土神州，正是仙道昌盛的时代，亿万生灵欣欣向荣。纵横千万里间，总有人间一幕幕悲欢离合，在恢弘长生的仙道中上演着。有光便有暗，天穹之下光辉之\\r\\n                                    ', '\\r\\n                                    ', '\\r\\n                                        ', '\\r\\n                                        \\r\\n                                                ', '\\r\\n                                        \\r\\n\\r\\n                                    '], 'autor': '萧鼎'}, {'update': '最新更新 第33篇 转世 第68章 荼花国', 'time': '2017-01-08 01:14', 'name': ['雪鹰领主'], 'des': ['\\r\\n                                        ', '\\r\\n                                    ', '\\r\\n                                        在夏族的安阳行省，有一个很小很不起眼的领地，叫——雪鹰领！故事，就从这里开始！**继《莽荒纪》《吞噬星空》《九鼎记》《盘龙》《星辰变》《寸芒》《星峰传说》后，番茄的第八本小说！\\r\\n                                    ', '\\r\\n                                    ', '\\r\\n                                        ', '\\r\\n                                        \\r\\n                                                ', '\\r\\n                                        \\r\\n\\r\\n                                    '], 'autor': '我吃西红柿'}, {'update': '最新更新 第二十七章 弱者的布局', 'time': '2017-01-09 00:00', 'name': ['斗战狂潮'], 'des': ['\\r\\n                                        ', '\\r\\n                                    ', '\\r\\n                                        双月当空，无限可能的英魂世界孤寂黑暗，神秘古怪的嬉命小丑百城联邦，三大帝国，异族横行，魂兽霸幽这是一个英雄辈出的年代，人类卧薪尝胆重掌地球主权，孕育着进军高纬度的野望！重点是……二\\r\\n                                    ', '\\r\\n                                    ', '\\r\\n                                        ', '\\r\\n                                        \\r\\n                                                ', '\\r\\n                                        \\r\\n\\r\\n                                    '], 'autor': '骷髅精灵'}, {'update': '最新更新 第一百九十章 陆寻借钱【第一更】', 'time': '2017-01-09 08:37', 'name': ['天道图书馆'], 'des': ['\\r\\n                                        ', '\\r\\n                                    ', '\\r\\n                                        张悬穿越异界，成了一名光荣的教师，脑海中多出了一个神秘的图书馆。只要他看过的东西，无论人还是物，都能自动形成书籍，记录下对方各种各样的缺点，于是，他牛大了！教学生、收徒弟，开堂授课\\r\\n                                    ', '\\r\\n                                    ', '\\r\\n                                        ', '\\r\\n                                        \\r\\n                                                ', '\\r\\n                                        \\r\\n\\r\\n                                    '], 'autor': '横扫天涯'}, {'update': '最新更新 第一百零五章 战术专家', 'time': '2017-01-09 08:00', 'name': ['我从凡间来'], 'des': ['\\r\\n                                        ', '\\r\\n                                    ', '\\r\\n                                        我从凡间来，到此觅长生。***********已完本540万字《官道之1976》，更新稳定，请放心阅读！我从凡间来普通群：546435549vip书友群：465327304（需全订\\r\\n                                    ', '\\r\\n                                    ', '\\r\\n                                        ', '\\r\\n                                        \\r\\n                                                ', '\\r\\n                                        \\r\\n\\r\\n                                    '], 'autor': '想见江南'}, {'update': '最新更新 第六百五十五章 一战而立威', 'time': '2017-01-08 22:18', 'name': ['修炼狂潮'], 'des': ['\\r\\n                                        ', '\\r\\n                                    ', '\\r\\n                                        这是一个科学与武道并重的时代，大灾变之后，人类发现了超古代修炼文明，开启了一个大修炼时代，并开始了昆仑界的殖民之路！这是一个人类危机重重，同时也是一个热血沸腾的，强者辈出的时代！得\\r\\n                                    ', '\\r\\n                                    ', '\\r\\n                                        ', '\\r\\n                                        \\r\\n                                                ', '\\r\\n                                        \\r\\n\\r\\n                                    '], 'autor': '傅啸尘'}, {'update': '最新更新 第605章 七大绝地（第四更）', 'time': '2017-01-09 00:10', 'name': ['重生之都市修仙'], 'des': ['\\r\\n                                        ', '\\r\\n                                    ', '\\r\\n                                        正式版：渡劫期大修士陈凡陨落在天劫中，却一梦五百年重回地球的年少时代。上一世我登临宇宙之巅，俯瞰万界，却无人相伴。这一世只愿不负前尘不负卿。通俗版：修行五百年的渡劫期修仙者重生回都\\r\\n                                    ', '\\r\\n                                    ', '\\r\\n                                        ', '\\r\\n                                        \\r\\n                                                ', '\\r\\n                                        \\r\\n\\r\\n                                    '], 'autor': '十里剑神'}, {'update': '最新更新 第四百九十八章 背影', 'time': '2017-01-07 22:12', 'name': ['五行天'], 'des': ['\\r\\n                                        ', '\\r\\n                                    ', '\\r\\n                                        万界融合，灵力消散，历经百万年的修真世界轰然崩塌，蛮荒大举入侵，五行天成为修真者最后的防线。千年之后，来自旧土的卑微少年，以苦力之身，深入蛮荒三年，破格获得进入五行天深造的机会。渴\\r\\n                                    ', '\\r\\n                                    ', '\\r\\n                                        ', '\\r\\n                                        \\r\\n                                                ', '\\r\\n                                        \\r\\n\\r\\n                                    '], 'autor': '方想'}, {'update': '最新更新 第525章 得意的宋缺', 'time': '2017-01-08 17:50', 'name': ['一念永恒'], 'des': ['\\r\\n                                        ', '\\r\\n                                    ', '\\r\\n                                        一念成沧海，一念化桑田。一念斩千魔，一念诛万仙。唯我念……永恒这是耳根继《仙逆》《求魔》《我欲封天》后，创作的第四部长篇小说《一念永恒》\\r\\n                                    ', '\\r\\n                                    ', '\\r\\n                                        ', '\\r\\n                                        \\r\\n                                                ', '\\r\\n                                        \\r\\n\\r\\n                                    '], 'autor': '耳根'}, {'update': '最新更新 第四百一十九章 观战', 'time': '2017-01-09 09:00', 'name': ['超凡传'], 'des': ['\\r\\n                                        ', '\\r\\n                                    ', '\\r\\n                                        万千星球，无尽修真。道衍之争，万载不息。衍修小师傅米小经，遭受灭门，由此投身到浩浩荡荡的命运河流之中。身怀衍修至宝，又得道家老怪帮助，一路修行，修真世界的图卷徐徐展开。玄奇法宝，凶\\r\\n                                    ', '\\r\\n                                    ', '\\r\\n                                        ', '\\r\\n                                        \\r\\n                                                ', '\\r\\n                                        \\r\\n\\r\\n                                    '], 'autor': '萧潜'}, {'update': '最新更新 第三百五十二章 丹麦烤猪肉的美味', 'time': '2017-01-09 05:13', 'name': ['美食供应商'], 'des': ['\\r\\n                                        ', '\\r\\n                                    ', '\\r\\n                                        “在遥远的东方，存在着一个数次拒绝了米其林三星评价的奇怪小店。那里价格昂贵，一碗配汤蛋炒饭288RMB，哦忘了还有一碟泡菜，但就算是这样也有很多人排队等候。那里不接受预定，只接受本\\r\\n                                    ', '\\r\\n                                    ', '\\r\\n                                        ', '\\r\\n                                        \\r\\n                                                ', '\\r\\n                                        \\r\\n\\r\\n                                    '], 'autor': '会做菜的猫'}, {'update': '最新更新 第一百三十一章 精神世界', 'time': '2017-01-09 09:00', 'name': ['通天仙路'], 'des': ['\\r\\n                                        ', '\\r\\n                                    ', '\\r\\n                                        “欧阳大师，求您给我锻造个神器吧！条件您开！”“……”“欧阳大师，我知道全天下就您能锻造七属性的神器，请您成全！”…………“嗯，属性差了点，加点啥呢！来点吸血、吸魔、全防……再来个\\r\\n                                    ', '\\r\\n                                    ', '\\r\\n                                        ', '\\r\\n                                        \\r\\n                                                ', '\\r\\n                                        \\r\\n\\r\\n                                    '], 'autor': '苍天白鹤'}, {'update': '最新更新 第七百五十一章 彩儿失踪', 'time': '2017-01-09 10:35', 'name': ['玄界之门'], 'des': ['\\r\\n                                        ', '\\r\\n                                    ', '\\r\\n                                        天降神物！异血附体！群仙惊惧！万魔退避！一名从东洲大陆走出的少年。一具生死相依的红粉骷髅。一个立志成为至强者的故事。一段叱咤星河，大闹三界的传说。忘语新书，已完本《凡人修仙传》》《\\r\\n                                    ', '\\r\\n                                    ', '\\r\\n                                        ', '\\r\\n                                        \\r\\n                                                ', '\\r\\n                                        \\r\\n\\r\\n                                    '], 'autor': '忘语'}, {'update': '最新更新 第七百五十一章 接受专访', 'time': '2017-01-09 00:59', 'name': ['重生完美时代'], 'des': ['\\r\\n                                        ', '\\r\\n                                    ', '\\r\\n                                        老牌程序员出身的李牧，被命运一脚踹回了2001年高考的当口，他欣喜的拍拍屁股，起身便踏上了一条注定牛X的道路。重活一回，李牧有他自己的追求，赚钱只是牛X的初级阶段，至于登上时代周刊\\r\\n                                    ', '\\r\\n                                    ', '\\r\\n                                        ', '\\r\\n                                        \\r\\n                                                ', '\\r\\n                                        \\r\\n\\r\\n                                    '], 'autor': '公子不歌'}, {'update': '最新更新 第七百八十九章 不肯原谅', 'time': '2017-01-09 07:00', 'name': ['龙王传说'], 'des': ['\\r\\n                                        ', '\\r\\n                                    ', '\\r\\n                                        伴随着魂导科技的进步，斗罗大陆上的人类征服了海洋，又发现了两片大陆。魂兽也随着人类魂师的猎杀无度走向灭亡，沉睡无数年的魂兽之王在星斗大森林最后的净土苏醒，它要带领仅存的族人，向人类\\r\\n                                    ', '\\r\\n                                    ', '\\r\\n                                        ', '\\r\\n                                        \\r\\n                                                ', '\\r\\n                                        \\r\\n\\r\\n                                    '], 'autor': '唐家三少'}, {'update': '最新更新 第二百一十一章 兵不厌诈', 'time': '2017-01-08 19:36', 'name': ['武道宗师'], 'des': ['\\r\\n                                        ', '\\r\\n                                    ', '\\r\\n                                        第一，不要笑书名。第二，不要笑封面。第三，不要笑简介。如果大家上面三句话会心笑了，说明本书风格应该挺适合你们的。在这里，武道不再是虚无缥缈的传说，而是切切实实的传承，经过与科技的对\\r\\n                                    ', '\\r\\n                                    ', '\\r\\n                                        ', '\\r\\n                                        \\r\\n                                                ', '\\r\\n                                        \\r\\n\\r\\n                                    '], 'autor': '爱潜水的乌贼'}, {'update': '最新更新 第一千三百四十九章 小弱鸡的怪异', 'time': '2017-01-08 11:42', 'name': ['异常生物见闻录'], 'des': ['\\r\\n                                        ', '\\r\\n                                    ', '\\r\\n                                        郝仁，人如其名，是个好人，理想是平平安安过一辈子，当个穷不死但也发不了财的小房东——起码在他家里住进去一堆神经病生物之前是这样。一栋偏僻陈旧的大屋，一堆不怎么正常的人外生物，还有一\\r\\n                                    ', '\\r\\n                                    ', '\\r\\n                                        ', '\\r\\n                                        \\r\\n                                                ', '\\r\\n                                        \\r\\n\\r\\n                                    '], 'autor': '远瞳'}]\n"
     ]
    }
   ],
   "source": [
    "import os,sys\n",
    "print(os.getcwd())\n",
    "import json  \n",
    "\n",
    "print (json.load(open('book.json'))) \n",
    "#加载文件，并读取"
   ]
  },
  {
   "cell_type": "code",
   "execution_count": null,
   "metadata": {
    "collapsed": true
   },
   "outputs": [],
   "source": []
  }
 ],
 "metadata": {
  "kernelspec": {
   "display_name": "Python 3",
   "language": "python",
   "name": "python3"
  },
  "language_info": {
   "codemirror_mode": {
    "name": "ipython",
    "version": 3
   },
   "file_extension": ".py",
   "mimetype": "text/x-python",
   "name": "python",
   "nbconvert_exporter": "python",
   "pygments_lexer": "ipython3",
   "version": "3.5.2+"
  }
 },
 "nbformat": 4,
 "nbformat_minor": 1
}
