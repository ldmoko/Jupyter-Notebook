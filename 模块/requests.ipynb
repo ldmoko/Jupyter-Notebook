{
 "cells": [
  {
   "cell_type": "code",
   "execution_count": 6,
   "metadata": {
    "collapsed": false,
    "scrolled": true
   },
   "outputs": [
    {
     "name": "stdout",
     "output_type": "stream",
     "text": [
      "Hello there, Li DM!\n"
     ]
    }
   ],
   "source": [
    "import requests\n",
    "dic = {'firstname': 'Li', 'lastname': 'DM'}\n",
    "r = requests.post('http://pythonscraping.com/files/processing.php', data=dic)\n",
    "print(r.text)\n"
   ]
  },
  {
   "cell_type": "code",
   "execution_count": 1,
   "metadata": {
    "collapsed": false,
    "scrolled": true
   },
   "outputs": [
    {
     "name": "stdout",
     "output_type": "stream",
     "text": [
      "{'loggedin': '1', 'username': '%E6%95%8F%E5%93%A5'}\n",
      "----------\n",
      "Hey 敏哥! Looks like you're still logged into the site!\n"
     ]
    }
   ],
   "source": [
    "import requests\n",
    "params = {'username': '敏哥', 'password': 'password'}\n",
    "r = requests.post('http://pythonscraping.com/pages/cookies/welcome.php', params)\n",
    "print(r.cookies.get_dict())\n",
    "print('----------')\n",
    "r = requests.get('http://pythonscraping.com/pages/cookies/profile.php', cookies=r.cookies)\n",
    "print(r.text)"
   ]
  },
  {
   "cell_type": "code",
   "execution_count": 1,
   "metadata": {
    "collapsed": false,
    "scrolled": true
   },
   "outputs": [
    {
     "name": "stdout",
     "output_type": "stream",
     "text": [
      "http://www.pythonscraping.com/sites/default/files/lrg_0.jpg\n"
     ]
    }
   ],
   "source": [
    "from urllib.request import urlretrieve\n",
    "from urllib.request import urlopen\n",
    "from bs4 import BeautifulSoup\n",
    "html = urlopen('http://www.pythonscraping.com')\n",
    "b = BeautifulSoup(html, 'html.parser')\n",
    "ima = b.find('a', {'id': \"logo\"}).find('img')['src']\n",
    "urlretrieve(ima, 'logo.jpg')\n",
    "print(ima)"
   ]
  },
  {
   "cell_type": "code",
   "execution_count": 16,
   "metadata": {
    "collapsed": false,
    "scrolled": true
   },
   "outputs": [
    {
     "name": "stdout",
     "output_type": "stream",
     "text": [
      "http://www.pythonscraping.com/sites/default/files/lrg_0.jpg\n"
     ]
    }
   ],
   "source": [
    "#此例子功能和上面例子功能是一样的，这里使用的是requests包，上面是使用自带的urllib\n",
    "import requests\n",
    "from bs4 import BeautifulSoup\n",
    "html = requests.get('http://www.pythonscraping.com').text\n",
    "bb = BeautifulSoup(html, 'html.parser')\n",
    "imaurl = bb.find('a', {'id': \"logo\"}).find('img')['src']\n",
    "r = requests.get(imaurl).content\n",
    "with open('logo1.jpg','wb') as f:\n",
    "    f.write(r)\n",
    "    print(imaurl)"
   ]
  },
  {
   "cell_type": "code",
   "execution_count": 19,
   "metadata": {
    "collapsed": false
   },
   "outputs": [],
   "source": [
    "#此例子用正则代替BS4实现\n",
    "import re\n",
    "import requests\n",
    "html = requests.get('http://www.pythonscraping.com').text\n",
    "pat = '<img src=\"(.*?)\"'\n",
    "jpgurl = re.findall(pat, html)[0]\n",
    "r = requests.get(jpgurl)\n",
    "with open('logo2.jpg','wb') as f:\n",
    "    f.write(r.content)\n",
    "\n",
    "# print(jpgurl)\n"
   ]
  },
  {
   "cell_type": "code",
   "execution_count": 9,
   "metadata": {
    "collapsed": false,
    "scrolled": true
   },
   "outputs": [
    {
     "data": {
      "text/plain": [
       "<Response [401]>"
      ]
     },
     "execution_count": 9,
     "metadata": {},
     "output_type": "execute_result"
    }
   ],
   "source": [
    "import requests\n",
    "from requests.auth import HTTPBasicAuth\n",
    "#requests.get('http://httpbin.org/digest-auth/auth/user/pass', auth=HTTPBasicAuth('user', 'pass123'))\n",
    "requests.get('http://httpbin.org/digest-auth/auth/user/pass', auth=('user', 'pass'))#是上面的简写"
   ]
  },
  {
   "cell_type": "code",
   "execution_count": 6,
   "metadata": {
    "collapsed": false,
    "scrolled": true
   },
   "outputs": [
    {
     "data": {
      "text/plain": [
       "<Response [200]>"
      ]
     },
     "execution_count": 6,
     "metadata": {},
     "output_type": "execute_result"
    }
   ],
   "source": [
    ">>> from requests.auth import HTTPDigestAuth\n",
    ">>> url = 'http://httpbin.org/digest-auth/auth/user/pass'\n",
    ">>> requests.get(url, auth=HTTPDigestAuth('user', 'pass'))"
   ]
  },
  {
   "cell_type": "code",
   "execution_count": 13,
   "metadata": {
    "collapsed": false
   },
   "outputs": [
    {
     "ename": "ImportError",
     "evalue": "No module named 'requests_oauthlib'",
     "output_type": "error",
     "traceback": [
      "\u001b[0;31m---------------------------------------------------------------------------\u001b[0m",
      "\u001b[0;31mImportError\u001b[0m                               Traceback (most recent call last)",
      "\u001b[0;32m<ipython-input-13-ba541f9d2c6d>\u001b[0m in \u001b[0;36m<module>\u001b[0;34m()\u001b[0m\n\u001b[1;32m      1\u001b[0m \u001b[0;32mimport\u001b[0m \u001b[0mrequests\u001b[0m\u001b[0;34m\u001b[0m\u001b[0m\n\u001b[0;32m----> 2\u001b[0;31m \u001b[0;32mfrom\u001b[0m \u001b[0mrequests_oauthlib\u001b[0m \u001b[0;32mimport\u001b[0m \u001b[0mOAuth1\u001b[0m\u001b[0;34m\u001b[0m\u001b[0m\n\u001b[0m\u001b[1;32m      3\u001b[0m \u001b[0murl\u001b[0m \u001b[0;34m=\u001b[0m \u001b[0;34m'https://api.twitter.com/1.1/account/verify_credentials.json'\u001b[0m\u001b[0;34m\u001b[0m\u001b[0m\n\u001b[1;32m      4\u001b[0m auth = OAuth1('YOUR_APP_KEY', 'YOUR_APP_SECRET',\n\u001b[1;32m      5\u001b[0m                   'USER_OAUTH_TOKEN', 'USER_OAUTH_TOKEN_SECRET')\n",
      "\u001b[0;31mImportError\u001b[0m: No module named 'requests_oauthlib'"
     ]
    }
   ],
   "source": [
    ">>> import requests\n",
    ">>> from requests_oauthlib import OAuth1\n",
    ">>> url = 'https://api.twitter.com/1.1/account/verify_credentials.json'\n",
    ">>> auth = OAuth1('YOUR_APP_KEY', 'YOUR_APP_SECRET',\n",
    "                  'USER_OAUTH_TOKEN', 'USER_OAUTH_TOKEN_SECRET')"
   ]
  }
 ],
 "metadata": {
  "kernelspec": {
   "display_name": "Python 3",
   "language": "python",
   "name": "python3"
  },
  "language_info": {
   "codemirror_mode": {
    "name": "ipython",
    "version": 3
   },
   "file_extension": ".py",
   "mimetype": "text/x-python",
   "name": "python",
   "nbconvert_exporter": "python",
   "pygments_lexer": "ipython3",
   "version": "3.5.2+"
  }
 },
 "nbformat": 4,
 "nbformat_minor": 1
}
